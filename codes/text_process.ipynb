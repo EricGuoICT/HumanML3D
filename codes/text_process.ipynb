{
 "cells": [
  {
   "cell_type": "code",
   "execution_count": 1,
   "metadata": {
    "collapsed": true
   },
   "outputs": [],
   "source": [
    "import pickle\n",
    "import bcolz\n",
    "import numpy as np\n",
    "import pandas as pd\n",
    "from tqdm import tqdm\n"
   ]
  },
  {
   "cell_type": "code",
   "execution_count": 2,
   "metadata": {
    "collapsed": true
   },
   "outputs": [],
   "source": [
    "words = []\n",
    "idx = 0\n",
    "glove_path = './glove/'\n",
    "word2idx = {}"
   ]
  },
  {
   "cell_type": "code",
   "execution_count": 3,
   "metadata": {
    "collapsed": true
   },
   "outputs": [],
   "source": [
    "vectors = bcolz.carray(np.zeros(1), rootdir=f'{glove_path}/6B.300d.dat', mode='w')\n",
    "with open(f'{glove_path}/glove.6B.300d.txt', 'rb') as f:\n",
    "    for l in f:\n",
    "        line = l.decode().split()\n",
    "        word = line[0]\n",
    "        words.append(word)\n",
    "        word2idx[word] = idx\n",
    "        idx += 1\n",
    "        vect = np.array(line[1:]).astype(np.float)\n",
    "        vectors.append(vect)\n",
    "    \n",
    "vectors = bcolz.carray(vectors[1:].reshape((400000, 300)), rootdir=f'{glove_path}/6B.300d.dat', mode='w')\n",
    "vectors.flush()\n",
    "pickle.dump(words, open(f'{glove_path}/6B.300d_words.pkl', 'wb'))\n",
    "pickle.dump(word2idx, open(f'{glove_path}/6B.300d_idx.pkl', 'wb'))"
   ]
  },
  {
   "cell_type": "code",
   "execution_count": 4,
   "metadata": {
    "collapsed": true
   },
   "outputs": [],
   "source": [
    "vectors = bcolz.open(f'{glove_path}/6B.300d.dat')[:]\n",
    "words = pickle.load(open(f'{glove_path}/6B.300d_words.pkl', 'rb'))\n",
    "word2idx = pickle.load(open(f'{glove_path}/6B.300d_idx.pkl', 'rb'))\n",
    "\n",
    "glove = {w: vectors[word2idx[w]] for w in words}"
   ]
  },
  {
   "cell_type": "code",
   "execution_count": 93,
   "metadata": {},
   "outputs": [
    {
     "data": {
      "text/plain": [
       "0.7165080993153707"
      ]
     },
     "execution_count": 93,
     "metadata": {},
     "output_type": "execute_result"
    }
   ],
   "source": [
    "np.dot(a,b)/(np.linalg.norm(a)*np.linalg.norm(b))"
   ]
  },
  {
   "cell_type": "code",
   "execution_count": 3,
   "metadata": {
    "collapsed": true
   },
   "outputs": [],
   "source": [
    "corpus = pd.read_csv('./dataset/kit_mocap_dataset/desc_final.csv')"
   ]
  },
  {
   "cell_type": "code",
   "execution_count": 1,
   "metadata": {
    "collapsed": true
   },
   "outputs": [],
   "source": [
    "import operator\n",
    "import spacy\n",
    "\n",
    "nlp = spacy.load('en_core_web_sm')\n",
    "def process_text(sentence):\n",
    "    sentence = sentence.replace('-', '')\n",
    "    doc = nlp(sentence)\n",
    "    word_list = []\n",
    "    pos_list = []\n",
    "    for token in doc:\n",
    "        word = token.text\n",
    "        if not word.isalpha():\n",
    "            continue\n",
    "        if (token.pos_ == 'NOUN' or token.pos_ == 'VERB') and (word != 'left'):\n",
    "            word_list.append(token.lemma_)\n",
    "        else:\n",
    "            word_list.append(word)\n",
    "        pos_list.append(token.pos_)\n",
    "    return word_list, pos_list\n",
    "            \n",
    "\n",
    "black_list = ',.’\\'°⁰;\\\")('\n",
    "\n",
    "def build_vocab(sentences, verbose=True):\n",
    "    vocab = {}\n",
    "    for sentence in tqdm(sentences, disable= (not verbose)):\n",
    "        words, _ = process_text(sentence.lower())\n",
    "        for word in words:\n",
    "            word = ''.join( w for w in word if w not in black_list)\n",
    "            try:\n",
    "                vocab[word] += 1\n",
    "            except KeyError:\n",
    "                vocab[word] = 1\n",
    "    return vocab\n",
    "\n",
    "def check_coverage(vocab, embeddings_index):\n",
    "    a = {}\n",
    "    oov = {}\n",
    "    k = 0\n",
    "    i = 0\n",
    "    for word in tqdm(vocab):\n",
    "        try:\n",
    "            a[word] = embeddings_index[word]\n",
    "            k += vocab[word]\n",
    "        except KeyError:\n",
    "            oov[word] = vocab[word]\n",
    "            i += vocab[word]\n",
    "            pass\n",
    "    print('Found embeddings for {:.2%} of vocab'.format(len(a) / len(vocab)))\n",
    "    print('Found embeddings for  {:.2%} of all text'.format(k / (k + i)))\n",
    "    sorted_x = sorted(oov.items(), key=operator.itemgetter(1))[::-1]\n",
    "\n",
    "    return sorted_x, a"
   ]
  },
  {
   "cell_type": "code",
   "execution_count": 2,
   "metadata": {
    "collapsed": true
   },
   "outputs": [],
   "source": [
    "doc = nlp(\"A person is doing jumping jacks, then start jogging in place.\")"
   ]
  },
  {
   "cell_type": "code",
   "execution_count": 5,
   "metadata": {},
   "outputs": [
    {
     "data": {
      "text/plain": [
       "['A/DET',\n",
       " 'person/NOUN',\n",
       " 'is/AUX',\n",
       " 'doing/VERB',\n",
       " 'jumping/VERB',\n",
       " 'jacks/NOUN',\n",
       " ',/PUNCT',\n",
       " 'then/ADV',\n",
       " 'start/VERB',\n",
       " 'jogging/VERB',\n",
       " 'in/ADP',\n",
       " 'place/NOUN',\n",
       " './PUNCT']"
      ]
     },
     "execution_count": 5,
     "metadata": {},
     "output_type": "execute_result"
    }
   ],
   "source": [
    "[token.text + '/' + token.pos_ for token in doc]"
   ]
  },
  {
   "cell_type": "code",
   "execution_count": null,
   "metadata": {
    "collapsed": true
   },
   "outputs": [],
   "source": []
  },
  {
   "cell_type": "code",
   "execution_count": 5,
   "metadata": {},
   "outputs": [
    {
     "name": "stderr",
     "output_type": "stream",
     "text": [
      "100%|██████████| 12700/12700 [00:58<00:00, 215.29it/s]\n"
     ]
    }
   ],
   "source": [
    "vocab = build_vocab(list(corpus['desc']))"
   ]
  },
  {
   "cell_type": "code",
   "execution_count": null,
   "metadata": {
    "collapsed": true
   },
   "outputs": [],
   "source": []
  },
  {
   "cell_type": "code",
   "execution_count": 6,
   "metadata": {
    "collapsed": true
   },
   "outputs": [],
   "source": [
    "from os.path import join as pjoin\n",
    "words = pickle.load(open(pjoin('./glove', '%s_words.pkl'%'our_vab'), 'rb'))\n",
    "word2idx = pickle.load(open(pjoin('./glove', '%s_idx.pkl'%'our_vab'), 'rb'))"
   ]
  },
  {
   "cell_type": "code",
   "execution_count": 7,
   "metadata": {},
   "outputs": [
    {
     "name": "stderr",
     "output_type": "stream",
     "text": [
      "100%|██████████| 1287/1287 [00:00<00:00, 1670711.62it/s]"
     ]
    },
    {
     "name": "stdout",
     "output_type": "stream",
     "text": [
      "Found embeddings for 76.15% of vocab\n",
      "Found embeddings for  98.84% of all text\n"
     ]
    },
    {
     "name": "stderr",
     "output_type": "stream",
     "text": [
      "\n"
     ]
    }
   ],
   "source": [
    "oov, cov = check_coverage(vocab, word2idx)"
   ]
  },
  {
   "cell_type": "code",
   "execution_count": 27,
   "metadata": {},
   "outputs": [
    {
     "name": "stderr",
     "output_type": "stream",
     "text": [
      "100%|██████████| 5371/5371 [00:00<00:00, 554280.12it/s]"
     ]
    },
    {
     "name": "stdout",
     "output_type": "stream",
     "text": [
      "Found embeddings for 78.12% of vocab\n",
      "Found embeddings for  99.53% of all text\n"
     ]
    },
    {
     "name": "stderr",
     "output_type": "stream",
     "text": [
      "\n"
     ]
    }
   ],
   "source": [
    "oov, cov = check_coverage(vocab, glove)"
   ]
  },
  {
   "cell_type": "code",
   "execution_count": 18,
   "metadata": {
    "collapsed": true
   },
   "outputs": [],
   "source": [
    "sorted_vocab = sorted(vocab.items(), key=operator.itemgetter(1))[::-1]\n"
   ]
  },
  {
   "cell_type": "code",
   "execution_count": 19,
   "metadata": {},
   "outputs": [
    {
     "data": {
      "text/plain": [
       "1287"
      ]
     },
     "execution_count": 19,
     "metadata": {},
     "output_type": "execute_result"
    }
   ],
   "source": [
    "len(vocab)"
   ]
  },
  {
   "cell_type": "code",
   "execution_count": 20,
   "metadata": {},
   "outputs": [
    {
     "data": {
      "text/plain": [
       "[('a', 14470),\n",
       " ('person', 8622),\n",
       " ('walk', 6294),\n",
       " ('the', 4516),\n",
       " ('forward', 3149),\n",
       " ('and', 3042),\n",
       " ('to', 2676),\n",
       " ('step', 2574),\n",
       " ('is', 2512),\n",
       " ('human', 2284),\n",
       " ('left', 2178),\n",
       " ('right', 2178),\n",
       " ('with', 1746),\n",
       " ('in', 1524),\n",
       " ('turn', 1516),\n",
       " ('his', 1272),\n",
       " ('circle', 1234),\n",
       " ('hand', 1130),\n",
       " ('someone', 1094),\n",
       " ('on', 1074),\n",
       " ('then', 926),\n",
       " ('push', 852),\n",
       " ('back', 778),\n",
       " ('perform', 778),\n",
       " ('forwards', 745),\n",
       " ('backwards', 614),\n",
       " ('foot', 594),\n",
       " ('from', 584),\n",
       " ('slowly', 556),\n",
       " ('take', 544),\n",
       " ('run', 538),\n",
       " ('around', 534),\n",
       " ('get', 530),\n",
       " ('go', 526),\n",
       " ('down', 526),\n",
       " ('jump', 502),\n",
       " ('up', 496),\n",
       " ('its', 494),\n",
       " ('arm', 486),\n",
       " ('of', 486),\n",
       " ('few', 484),\n",
       " ('while', 468),\n",
       " ('something', 468),\n",
       " ('start', 450),\n",
       " ('degree', 448),\n",
       " ('stand', 448),\n",
       " ('make', 436),\n",
       " ('quarter', 434),\n",
       " ('two', 382),\n",
       " ('play', 374),\n",
       " ('again', 366),\n",
       " ('move', 358),\n",
       " ('side', 344),\n",
       " ('front', 318),\n",
       " ('clockwise', 297),\n",
       " ('one', 294),\n",
       " ('both', 288),\n",
       " ('counterclockwise', 278),\n",
       " ('an', 268),\n",
       " ('subject', 258),\n",
       " ('fast', 256),\n",
       " ('do', 254),\n",
       " ('leg', 248),\n",
       " ('stop', 246),\n",
       " ('it', 246),\n",
       " ('straight', 240),\n",
       " ('four', 238),\n",
       " ('wave', 230),\n",
       " ('their', 222),\n",
       " ('dance', 220),\n",
       " ('some', 218),\n",
       " ('stumble', 216),\n",
       " ('somebody', 198),\n",
       " ('knee', 196),\n",
       " ('meter', 196),\n",
       " ('for', 192),\n",
       " ('wipe', 190),\n",
       " ('kick', 186),\n",
       " ('at', 186),\n",
       " ('by', 184),\n",
       " ('curve', 178),\n",
       " ('motion', 178),\n",
       " ('ground', 174),\n",
       " ('does', 166),\n",
       " ('over', 164),\n",
       " ('guitar', 156),\n",
       " ('like', 152),\n",
       " ('position', 148),\n",
       " ('direction', 148),\n",
       " ('man', 140),\n",
       " ('kneel', 138),\n",
       " ('he', 134),\n",
       " ('very', 134),\n",
       " ('violin', 132),\n",
       " ('small', 130),\n",
       " ('slow', 128),\n",
       " ('backward', 126),\n",
       " ('look', 124),\n",
       " ('five', 122),\n",
       " ('throw', 122)]"
      ]
     },
     "execution_count": 20,
     "metadata": {},
     "output_type": "execute_result"
    }
   ],
   "source": [
    "sorted_vocab[:100]"
   ]
  },
  {
   "cell_type": "code",
   "execution_count": 17,
   "metadata": {},
   "outputs": [
    {
     "data": {
      "text/plain": [
       "5371"
      ]
     },
     "execution_count": 17,
     "metadata": {},
     "output_type": "execute_result"
    }
   ],
   "source": [
    "len(sorted_vocab)"
   ]
  },
  {
   "cell_type": "code",
   "execution_count": 28,
   "metadata": {},
   "outputs": [
    {
     "data": {
      "text/plain": [
       "4196"
      ]
     },
     "execution_count": 28,
     "metadata": {},
     "output_type": "execute_result"
    }
   ],
   "source": [
    "len(cov)"
   ]
  },
  {
   "cell_type": "code",
   "execution_count": 75,
   "metadata": {},
   "outputs": [
    {
     "data": {
      "text/plain": [
       "1591"
      ]
     },
     "execution_count": 75,
     "metadata": {},
     "output_type": "execute_result"
    }
   ],
   "source": [
    "len(oov)"
   ]
  },
  {
   "cell_type": "code",
   "execution_count": 50,
   "metadata": {
    "collapsed": true
   },
   "outputs": [],
   "source": [
    "word_embeds = []\n",
    "words = []\n",
    "word2idx = {}\n",
    "\n",
    "words.append('sos')\n",
    "word2idx['sos'] = 0\n",
    "word_embeds.append(np.random.normal(size=(1, 300)))\n",
    "\n",
    "words.append('eos')\n",
    "word2idx['eos'] = 1\n",
    "word_embeds.append(np.random.normal(size=(1, 300)))\n",
    "\n",
    "words.append('unk')\n",
    "word2idx['unk'] = 2\n",
    "word_embeds.append(np.random.normal(size=(1, 300)))\n",
    "\n",
    "idx = 3\n",
    "for word, embedding in cov.items():\n",
    "    words.append(word)\n",
    "    word2idx[word] = idx\n",
    "    word_embeds.append(embedding.reshape(1, -1))\n",
    "    idx += 1\n",
    "\n",
    "words_embeds = np.concatenate(word_embeds, axis=0)\n"
   ]
  },
  {
   "cell_type": "code",
   "execution_count": 51,
   "metadata": {
    "collapsed": true
   },
   "outputs": [],
   "source": [
    "np.save('%s/our_vab_data.npy'%(glove_path), words_embeds)\n",
    "pickle.dump(words, open(f'{glove_path}/our_vab_words.pkl', 'wb'))\n",
    "pickle.dump(word2idx, open(f'{glove_path}/our_vab_idx.pkl', 'wb'))"
   ]
  },
  {
   "cell_type": "code",
   "execution_count": 42,
   "metadata": {},
   "outputs": [
    {
     "data": {
      "text/plain": [
       "(4198, 300)"
      ]
     },
     "execution_count": 42,
     "metadata": {},
     "output_type": "execute_result"
    }
   ],
   "source": [
    "words_embeds.shape"
   ]
  },
  {
   "cell_type": "code",
   "execution_count": 43,
   "metadata": {},
   "outputs": [
    {
     "data": {
      "text/plain": [
       "4198"
      ]
     },
     "execution_count": 43,
     "metadata": {},
     "output_type": "execute_result"
    }
   ],
   "source": [
    "len(words)"
   ]
  },
  {
   "cell_type": "code",
   "execution_count": 8,
   "metadata": {},
   "outputs": [
    {
     "ename": "NameError",
     "evalue": "name 'words_embeds' is not defined",
     "output_type": "error",
     "traceback": [
      "\u001b[0;31m---------------------------------------------------------------------------\u001b[0m",
      "\u001b[0;31mNameError\u001b[0m                                 Traceback (most recent call last)",
      "\u001b[0;32m<ipython-input-8-b3849c3870f4>\u001b[0m in \u001b[0;36m<module>\u001b[0;34m\u001b[0m\n\u001b[0;32m----> 1\u001b[0;31m \u001b[0mwords_embeds\u001b[0m\u001b[0;34m[\u001b[0m\u001b[0mword2idx\u001b[0m\u001b[0;34m[\u001b[0m\u001b[0;34m'unk'\u001b[0m\u001b[0;34m]\u001b[0m\u001b[0;34m]\u001b[0m\u001b[0;34m\u001b[0m\u001b[0;34m\u001b[0m\u001b[0m\n\u001b[0m",
      "\u001b[0;31mNameError\u001b[0m: name 'words_embeds' is not defined"
     ]
    }
   ],
   "source": [
    "words_embeds[word2idx['unk']]"
   ]
  },
  {
   "cell_type": "markdown",
   "metadata": {},
   "source": [
    "## Our Dataset"
   ]
  },
  {
   "cell_type": "code",
   "execution_count": 59,
   "metadata": {},
   "outputs": [
    {
     "name": "stderr",
     "output_type": "stream",
     "text": [
      "100%|██████████| 87384/87384 [07:25<00:00, 196.19it/s]\n"
     ]
    }
   ],
   "source": [
    "import codecs as cs\n",
    "from os.path import join as pjoin\n",
    "text_save_path = './dataset/pose_data_raw/texts'\n",
    "desc_all = corpus\n",
    "for i in tqdm(range(len(desc_all))):\n",
    "    caption = desc_all.iloc[i]['caption']\n",
    "    start = desc_all.iloc[i]['from']\n",
    "    end = desc_all.iloc[i]['to']\n",
    "    name = desc_all.iloc[i]['new_joint_name']\n",
    "    word_list, pose_list = process_text(caption)\n",
    "    tokens = ' '.join(['%s/%s'%(word_list[i], pose_list[i]) for i in range(len(word_list))])\n",
    "    with cs.open(pjoin(text_save_path, name.replace('npy', 'txt')), 'a+') as f:\n",
    "        f.write('%s#%s#%s#%s\\n'%(caption, tokens, start, end))"
   ]
  },
  {
   "cell_type": "markdown",
   "metadata": {},
   "source": [
    "## KIT Dataset"
   ]
  },
  {
   "cell_type": "code",
   "execution_count": 9,
   "metadata": {},
   "outputs": [
    {
     "name": "stderr",
     "output_type": "stream",
     "text": [
      "100%|██████████| 12700/12700 [01:03<00:00, 199.95it/s]\n"
     ]
    }
   ],
   "source": [
    "import codecs as cs\n",
    "from os.path import join as pjoin\n",
    "text_save_path = './dataset/kit_mocap_dataset/texts'\n",
    "desc_all = corpus\n",
    "for i in tqdm(range(len(desc_all))):\n",
    "    caption = desc_all.iloc[i]['desc']\n",
    "    start = 0.0\n",
    "    end = 0.0\n",
    "    name = desc_all.iloc[i]['data_id']\n",
    "    word_list, pose_list = process_text(caption)\n",
    "    tokens = ' '.join(['%s/%s'%(word_list[i], pose_list[i]) for i in range(len(word_list))])\n",
    "    with cs.open(pjoin(text_save_path, name + '.txt'), 'a+') as f:\n",
    "        f.write('%s#%s#%s#%s\\n'%(caption, tokens, start, end))"
   ]
  },
  {
   "cell_type": "code",
   "execution_count": 10,
   "metadata": {
    "collapsed": true
   },
   "outputs": [],
   "source": [
    "desc_all['length'] = desc_all['desc'].apply(lambda x: len(x.split(' ')))"
   ]
  },
  {
   "cell_type": "code",
   "execution_count": 11,
   "metadata": {},
   "outputs": [
    {
     "data": {
      "text/plain": [
       "count    12700.000000\n",
       "mean         8.428661\n",
       "std          4.338776\n",
       "min          3.000000\n",
       "25%          5.000000\n",
       "50%          7.000000\n",
       "75%         10.000000\n",
       "max         39.000000\n",
       "Name: length, dtype: float64"
      ]
     },
     "execution_count": 11,
     "metadata": {},
     "output_type": "execute_result"
    }
   ],
   "source": [
    "desc_all['length'].describe()"
   ]
  },
  {
   "cell_type": "code",
   "execution_count": 15,
   "metadata": {},
   "outputs": [
    {
     "data": {
      "image/png": "[encoded data removed]",
      "text/plain": [
       "<Figure size 432x288 with 1 Axes>"
      ]
     },
     "metadata": {
      "needs_background": "light"
     },
     "output_type": "display_data"
    }
   ],
   "source": [
    "import matplotlib.pyplot as plt\n",
    "plt.hist(desc_all['length'], bins=40)\n",
    "plt.show()"
   ]
  },
  {
   "cell_type": "code",
   "execution_count": 74,
   "metadata": {},
   "outputs": [
    {
     "data": {
      "text/plain": [
       "array([0.65991835])"
      ]
     },
     "execution_count": 74,
     "metadata": {},
     "output_type": "execute_result"
    }
   ],
   "source": [
    "np.random.rand(1)"
   ]
  },
  {
   "cell_type": "code",
   "execution_count": 1,
   "metadata": {
    "collapsed": true
   },
   "outputs": [],
   "source": [
    "from utils.word_vectorizer import WordVectorizer"
   ]
  },
  {
   "cell_type": "code",
   "execution_count": 2,
   "metadata": {
    "collapsed": true
   },
   "outputs": [],
   "source": [
    "w_vectorizer = WordVectorizer('./glove/')"
   ]
  },
  {
   "cell_type": "code",
   "execution_count": 9,
   "metadata": {
    "collapsed": true
   },
   "outputs": [],
   "source": [
    "word_vec, pos_vec = w_vectorizer['unk/OTHER']"
   ]
  },
  {
   "cell_type": "code",
   "execution_count": 10,
   "metadata": {},
   "outputs": [
    {
     "data": {
      "text/plain": [
       "array([0., 0., 0., 0., 0., 0., 0., 0., 0., 0., 1.])"
      ]
     },
     "execution_count": 10,
     "metadata": {},
     "output_type": "execute_result"
    }
   ],
   "source": [
    "pos_vec"
   ]
  },
  {
   "cell_type": "code",
   "execution_count": 11,
   "metadata": {},
   "outputs": [
    {
     "data": {
      "text/plain": [
       "(300,)"
      ]
     },
     "execution_count": 11,
     "metadata": {},
     "output_type": "execute_result"
    }
   ],
   "source": [
    "word_vec.shape"
   ]
  },
  {
   "cell_type": "code",
   "execution_count": 7,
   "metadata": {},
   "outputs": [
    {
     "data": {
      "text/plain": [
       "4199"
      ]
     },
     "execution_count": 7,
     "metadata": {},
     "output_type": "execute_result"
    }
   ],
   "source": [
    "len(w_vectorizer)"
   ]
  },
  {
   "cell_type": "code",
   "execution_count": 4,
   "metadata": {},
   "outputs": [
    {
     "data": {
      "text/plain": [
       "count    87192.000000\n",
       "mean         0.018281\n",
       "std          0.262955\n",
       "min          0.000000\n",
       "25%          0.000000\n",
       "50%          0.000000\n",
       "75%          0.000000\n",
       "max         10.000000\n",
       "Name: from, dtype: float64"
      ]
     },
     "execution_count": 4,
     "metadata": {},
     "output_type": "execute_result"
    }
   ],
   "source": [
    "corpus['from'].describe()"
   ]
  },
  {
   "cell_type": "code",
   "execution_count": 5,
   "metadata": {},
   "outputs": [
    {
     "data": {
      "text/html": [
       "<div>\n",
       "<style scoped>\n",
       "    .dataframe tbody tr th:only-of-type {\n",
       "        vertical-align: middle;\n",
       "    }\n",
       "\n",
       "    .dataframe tbody tr th {\n",
       "        vertical-align: top;\n",
       "    }\n",
       "\n",
       "    .dataframe thead th {\n",
       "        text-align: right;\n",
       "    }\n",
       "</style>\n",
       "<table border=\"1\" class=\"dataframe\">\n",
       "  <thead>\n",
       "    <tr style=\"text-align: right;\">\n",
       "      <th></th>\n",
       "      <th>animation_path</th>\n",
       "      <th>caption</th>\n",
       "      <th>from</th>\n",
       "      <th>to</th>\n",
       "      <th>raw_joint_path</th>\n",
       "      <th>new_joint_name</th>\n",
       "      <th>is_mirror</th>\n",
       "    </tr>\n",
       "  </thead>\n",
       "  <tbody>\n",
       "    <tr>\n",
       "      <th>28555</th>\n",
       "      <td>./animations/CMU/63/63_14_poses_0_94.mp4</td>\n",
       "      <td>a person stands slightly bent over with both i...</td>\n",
       "      <td>0.0</td>\n",
       "      <td>0.0</td>\n",
       "      <td>./pose_data/CMU/63/63_14_poses_0_94.npy</td>\n",
       "      <td>009551.npy</td>\n",
       "      <td>False</td>\n",
       "    </tr>\n",
       "    <tr>\n",
       "      <th>28556</th>\n",
       "      <td>./animations/CMU/63/63_14_poses_0_94.mp4</td>\n",
       "      <td>person lightly taps a golf ball with his golf ...</td>\n",
       "      <td>0.0</td>\n",
       "      <td>0.0</td>\n",
       "      <td>./pose_data/CMU/63/63_14_poses_0_94.npy</td>\n",
       "      <td>009551.npy</td>\n",
       "      <td>False</td>\n",
       "    </tr>\n",
       "    <tr>\n",
       "      <th>28557</th>\n",
       "      <td>./animations/CMU/63/63_14_poses_0_94.mp4</td>\n",
       "      <td>a person grabs his wrist and practices a putt.</td>\n",
       "      <td>NaN</td>\n",
       "      <td>NaN</td>\n",
       "      <td>./pose_data/CMU/63/63_14_poses_0_94.npy</td>\n",
       "      <td>009551.npy</td>\n",
       "      <td>False</td>\n",
       "    </tr>\n",
       "  </tbody>\n",
       "</table>\n",
       "</div>"
      ],
      "text/plain": [
       "                                 animation_path  \\\n",
       "28555  ./animations/CMU/63/63_14_poses_0_94.mp4   \n",
       "28556  ./animations/CMU/63/63_14_poses_0_94.mp4   \n",
       "28557  ./animations/CMU/63/63_14_poses_0_94.mp4   \n",
       "\n",
       "                                                 caption  from   to  \\\n",
       "28555  a person stands slightly bent over with both i...   0.0  0.0   \n",
       "28556  person lightly taps a golf ball with his golf ...   0.0  0.0   \n",
       "28557     a person grabs his wrist and practices a putt.   NaN  NaN   \n",
       "\n",
       "                                raw_joint_path new_joint_name  is_mirror  \n",
       "28555  ./pose_data/CMU/63/63_14_poses_0_94.npy     009551.npy      False  \n",
       "28556  ./pose_data/CMU/63/63_14_poses_0_94.npy     009551.npy      False  \n",
       "28557  ./pose_data/CMU/63/63_14_poses_0_94.npy     009551.npy      False  "
      ]
     },
     "execution_count": 5,
     "metadata": {},
     "output_type": "execute_result"
    }
   ],
   "source": [
    "corpus.loc[corpus['new_joint_name']=='009551.npy']"
   ]
  },
  {
   "cell_type": "code",
   "execution_count": 10,
   "metadata": {},
   "outputs": [
    {
     "data": {
      "text/plain": [
       "56"
      ]
     },
     "execution_count": 10,
     "metadata": {},
     "output_type": "execute_result"
    }
   ],
   "source": [
    "corpus['to'].isnull().sum()"
   ]
  },
  {
   "cell_type": "code",
   "execution_count": null,
   "metadata": {
    "collapsed": true
   },
   "outputs": [],
   "source": [
    "p = ['a', 'b', 'c']"
   ]
  },
  {
   "cell_type": "code",
   "execution_count": null,
   "metadata": {
    "collapsed": true
   },
   "outputs": [],
   "source": []
  }
 ],
 "metadata": {
  "kernelspec": {
   "display_name": "Python [conda env:text2motion]",
   "language": "python",
   "name": "conda-env-text2motion-py"
  },
  "language_info": {
   "codemirror_mode": {
    "name": "ipython",
    "version": 3
   },
   "file_extension": ".py",
   "mimetype": "text/x-python",
   "name": "python",
   "nbconvert_exporter": "python",
   "pygments_lexer": "ipython3",
   "version": "3.7.9"
  }
 },
 "nbformat": 4,
 "nbformat_minor": 2
}
